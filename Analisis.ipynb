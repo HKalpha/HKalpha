{
 "cells": [
  {
   "cell_type": "markdown",
   "id": "af4aebd5-d238-4aaa-abf0-982fd682b0d8",
   "metadata": {
    "tags": []
   },
   "source": [
    "# Análisis con la tabla y complementación con SIMBAD"
   ]
  },
  {
   "cell_type": "markdown",
   "id": "15e05f36-fae0-4a13-8901-6b5dbd5168a4",
   "metadata": {
    "tags": []
   },
   "source": [
    "#### Importo las librerias necesarias"
   ]
  },
  {
   "cell_type": "code",
   "execution_count": 277,
   "id": "a92f7344-aa46-4815-8e94-468790023047",
   "metadata": {
    "tags": []
   },
   "outputs": [],
   "source": [
    "import os\n",
    "import pandas as pd\n",
    "from astroquery.simbad import Simbad\n",
    "import matplotlib.pyplot as plt\n",
    "from datetime import date as get_time"
   ]
  },
  {
   "cell_type": "code",
   "execution_count": 278,
   "id": "476dafe5-4885-4c8a-99d3-828d3ac944ff",
   "metadata": {
    "tags": []
   },
   "outputs": [],
   "source": [
    "os.chdir(\"/home/federico/andrea/Resources/\")"
   ]
  },
  {
   "cell_type": "markdown",
   "id": "b8df95b2-4a06-4a2f-81c6-d65040488b2a",
   "metadata": {
    "tags": []
   },
   "source": [
    "## Objetos unicos"
   ]
  },
  {
   "cell_type": "markdown",
   "id": "1f619b78-6d4d-4c0f-9bc6-8f3ae7c9edf6",
   "metadata": {},
   "source": [
    "#### Lectura de la tabla"
   ]
  },
  {
   "cell_type": "code",
   "execution_count": 279,
   "id": "ae2927cb-4725-453f-b447-015ce2a34ea7",
   "metadata": {
    "tags": []
   },
   "outputs": [
    {
     "data": {
      "text/html": [
       "<div>\n",
       "<style scoped>\n",
       "    .dataframe tbody tr th:only-of-type {\n",
       "        vertical-align: middle;\n",
       "    }\n",
       "\n",
       "    .dataframe tbody tr th {\n",
       "        vertical-align: top;\n",
       "    }\n",
       "\n",
       "    .dataframe thead th {\n",
       "        text-align: right;\n",
       "    }\n",
       "</style>\n",
       "<table border=\"1\" class=\"dataframe\">\n",
       "  <thead>\n",
       "    <tr style=\"text-align: right;\">\n",
       "      <th></th>\n",
       "      <th>FNAME</th>\n",
       "      <th>SIMPLE</th>\n",
       "      <th>BITPIX</th>\n",
       "      <th>NAXIS</th>\n",
       "      <th>NAXIS1</th>\n",
       "      <th>NAXIS2</th>\n",
       "      <th>BSCALE</th>\n",
       "      <th>BZERO</th>\n",
       "      <th>OBSERVAT</th>\n",
       "      <th>DATE-OBS</th>\n",
       "      <th>...</th>\n",
       "      <th>TELESCOP</th>\n",
       "      <th>DETECTOR</th>\n",
       "      <th>GAIN</th>\n",
       "      <th>RDNOISE</th>\n",
       "      <th>IMAGETYP</th>\n",
       "      <th>OBJECT</th>\n",
       "      <th>PROG-ID</th>\n",
       "      <th>OBSERVER</th>\n",
       "      <th>INSTRUME</th>\n",
       "      <th>COMMENT</th>\n",
       "    </tr>\n",
       "  </thead>\n",
       "  <tbody>\n",
       "    <tr>\n",
       "      <th>0</th>\n",
       "      <td>ffl9.fit</td>\n",
       "      <td>True</td>\n",
       "      <td>16</td>\n",
       "      <td>2</td>\n",
       "      <td>1024</td>\n",
       "      <td>1034</td>\n",
       "      <td>1.0</td>\n",
       "      <td>32768.0</td>\n",
       "      <td>CASLEO</td>\n",
       "      <td>2017-12-05</td>\n",
       "      <td>...</td>\n",
       "      <td>2.15m</td>\n",
       "      <td>TK 1K</td>\n",
       "      <td>1.98</td>\n",
       "      <td>7.4</td>\n",
       "      <td>flat</td>\n",
       "      <td>flat lampara</td>\n",
       "      <td>NaN</td>\n",
       "      <td>R. Iba?ez para A. Buccino (remoto)</td>\n",
       "      <td>REOSC (DC) - Red # 180 - 316 l/mm - Ang.  5?  40'</td>\n",
       "      <td>= 'Decker  8  - Ranura 250 u '</td>\n",
       "    </tr>\n",
       "    <tr>\n",
       "      <th>1</th>\n",
       "      <td>bias2.fit</td>\n",
       "      <td>True</td>\n",
       "      <td>16</td>\n",
       "      <td>2</td>\n",
       "      <td>1024</td>\n",
       "      <td>1034</td>\n",
       "      <td>1.0</td>\n",
       "      <td>32768.0</td>\n",
       "      <td>CASLEO</td>\n",
       "      <td>2017-12-05</td>\n",
       "      <td>...</td>\n",
       "      <td>2.15m</td>\n",
       "      <td>TK 1K</td>\n",
       "      <td>1.98</td>\n",
       "      <td>7.4</td>\n",
       "      <td>zero</td>\n",
       "      <td>NaN</td>\n",
       "      <td>NaN</td>\n",
       "      <td>R. Iba?ez para A. Buccino (remoto)</td>\n",
       "      <td>REOSC (DC) - Red # 180 - 316 l/mm - Ang.  5?  40'</td>\n",
       "      <td>= 'Decker  8  - Ranura 250 u '</td>\n",
       "    </tr>\n",
       "    <tr>\n",
       "      <th>2</th>\n",
       "      <td>h42581b.fit</td>\n",
       "      <td>True</td>\n",
       "      <td>16</td>\n",
       "      <td>2</td>\n",
       "      <td>1024</td>\n",
       "      <td>1034</td>\n",
       "      <td>1.0</td>\n",
       "      <td>32768.0</td>\n",
       "      <td>CASLEO</td>\n",
       "      <td>2017-12-06</td>\n",
       "      <td>...</td>\n",
       "      <td>2.15m</td>\n",
       "      <td>TK 1K</td>\n",
       "      <td>1.98</td>\n",
       "      <td>7.4</td>\n",
       "      <td>object</td>\n",
       "      <td>HD42581</td>\n",
       "      <td>NaN</td>\n",
       "      <td>R. Iba?ez para A. Buccino (remoto)</td>\n",
       "      <td>REOSC (DC) - Red # 180 - 316 l/mm - Ang.  5?  40'</td>\n",
       "      <td>= 'Decker  8  - Ranura 250 u '</td>\n",
       "    </tr>\n",
       "    <tr>\n",
       "      <th>3</th>\n",
       "      <td>ffl4.fit</td>\n",
       "      <td>True</td>\n",
       "      <td>16</td>\n",
       "      <td>2</td>\n",
       "      <td>1024</td>\n",
       "      <td>1034</td>\n",
       "      <td>1.0</td>\n",
       "      <td>32768.0</td>\n",
       "      <td>CASLEO</td>\n",
       "      <td>2017-12-05</td>\n",
       "      <td>...</td>\n",
       "      <td>2.15m</td>\n",
       "      <td>TK 1K</td>\n",
       "      <td>1.98</td>\n",
       "      <td>7.4</td>\n",
       "      <td>flat</td>\n",
       "      <td>flat lampara</td>\n",
       "      <td>NaN</td>\n",
       "      <td>R. Iba?ez para A. Buccino (remoto)</td>\n",
       "      <td>REOSC (DC) - Red # 180 - 316 l/mm - Ang.  5?  40'</td>\n",
       "      <td>= 'Decker  8  - Ranura 250 u '</td>\n",
       "    </tr>\n",
       "    <tr>\n",
       "      <th>4</th>\n",
       "      <td>bias3.fit</td>\n",
       "      <td>True</td>\n",
       "      <td>16</td>\n",
       "      <td>2</td>\n",
       "      <td>1024</td>\n",
       "      <td>1034</td>\n",
       "      <td>1.0</td>\n",
       "      <td>32768.0</td>\n",
       "      <td>CASLEO</td>\n",
       "      <td>2017-12-05</td>\n",
       "      <td>...</td>\n",
       "      <td>2.15m</td>\n",
       "      <td>TK 1K</td>\n",
       "      <td>1.98</td>\n",
       "      <td>7.4</td>\n",
       "      <td>zero</td>\n",
       "      <td>NaN</td>\n",
       "      <td>NaN</td>\n",
       "      <td>R. Iba?ez para A. Buccino (remoto)</td>\n",
       "      <td>REOSC (DC) - Red # 180 - 316 l/mm - Ang.  5?  40'</td>\n",
       "      <td>= 'Decker  8  - Ranura 250 u '</td>\n",
       "    </tr>\n",
       "    <tr>\n",
       "      <th>...</th>\n",
       "      <td>...</td>\n",
       "      <td>...</td>\n",
       "      <td>...</td>\n",
       "      <td>...</td>\n",
       "      <td>...</td>\n",
       "      <td>...</td>\n",
       "      <td>...</td>\n",
       "      <td>...</td>\n",
       "      <td>...</td>\n",
       "      <td>...</td>\n",
       "      <td>...</td>\n",
       "      <td>...</td>\n",
       "      <td>...</td>\n",
       "      <td>...</td>\n",
       "      <td>...</td>\n",
       "      <td>...</td>\n",
       "      <td>...</td>\n",
       "      <td>...</td>\n",
       "      <td>...</td>\n",
       "      <td>...</td>\n",
       "      <td>...</td>\n",
       "    </tr>\n",
       "    <tr>\n",
       "      <th>20240</th>\n",
       "      <td>bias9.fit</td>\n",
       "      <td>True</td>\n",
       "      <td>16</td>\n",
       "      <td>2</td>\n",
       "      <td>1024</td>\n",
       "      <td>1034</td>\n",
       "      <td>NaN</td>\n",
       "      <td>NaN</td>\n",
       "      <td>CASLEO</td>\n",
       "      <td>2005-08-16</td>\n",
       "      <td>...</td>\n",
       "      <td>2.15m</td>\n",
       "      <td>TK 1K</td>\n",
       "      <td>1.98</td>\n",
       "      <td>7.4</td>\n",
       "      <td>zero</td>\n",
       "      <td>NaN</td>\n",
       "      <td>NaN</td>\n",
       "      <td>Mauas</td>\n",
       "      <td>Reosc DC</td>\n",
       "      <td>= 'red: 316 l/mm   Decker 8 '\\n= '?ng.: 5 20  ...</td>\n",
       "    </tr>\n",
       "    <tr>\n",
       "      <th>20241</th>\n",
       "      <td>h158614b.fit</td>\n",
       "      <td>True</td>\n",
       "      <td>16</td>\n",
       "      <td>2</td>\n",
       "      <td>1024</td>\n",
       "      <td>1034</td>\n",
       "      <td>NaN</td>\n",
       "      <td>NaN</td>\n",
       "      <td>CASLEO</td>\n",
       "      <td>2005-08-17</td>\n",
       "      <td>...</td>\n",
       "      <td>2.15m</td>\n",
       "      <td>TK 1K</td>\n",
       "      <td>1.98</td>\n",
       "      <td>7.4</td>\n",
       "      <td>object</td>\n",
       "      <td>hd 158614</td>\n",
       "      <td>NaN</td>\n",
       "      <td>Mauas</td>\n",
       "      <td>Reosc DC</td>\n",
       "      <td>= 'red: 316 l/mm   Decker 8 '\\n= '?ng.: 5 20  ...</td>\n",
       "    </tr>\n",
       "    <tr>\n",
       "      <th>20242</th>\n",
       "      <td>h147513a.fit</td>\n",
       "      <td>True</td>\n",
       "      <td>16</td>\n",
       "      <td>2</td>\n",
       "      <td>1024</td>\n",
       "      <td>1034</td>\n",
       "      <td>NaN</td>\n",
       "      <td>NaN</td>\n",
       "      <td>CASLEO</td>\n",
       "      <td>2005-08-17</td>\n",
       "      <td>...</td>\n",
       "      <td>2.15m</td>\n",
       "      <td>TK 1K</td>\n",
       "      <td>1.98</td>\n",
       "      <td>7.4</td>\n",
       "      <td>object</td>\n",
       "      <td>hd 147513</td>\n",
       "      <td>NaN</td>\n",
       "      <td>Mauas</td>\n",
       "      <td>Reosc DC</td>\n",
       "      <td>= 'red: 316 l/mm   Decker 8 '\\n= '?ng.: 5 20  ...</td>\n",
       "    </tr>\n",
       "    <tr>\n",
       "      <th>20243</th>\n",
       "      <td>h52265b.fit</td>\n",
       "      <td>True</td>\n",
       "      <td>16</td>\n",
       "      <td>2</td>\n",
       "      <td>1024</td>\n",
       "      <td>1034</td>\n",
       "      <td>NaN</td>\n",
       "      <td>NaN</td>\n",
       "      <td>CASLEO</td>\n",
       "      <td>2005-08-17</td>\n",
       "      <td>...</td>\n",
       "      <td>2.15m</td>\n",
       "      <td>TK 1K</td>\n",
       "      <td>1.98</td>\n",
       "      <td>7.4</td>\n",
       "      <td>object</td>\n",
       "      <td>hd 52265</td>\n",
       "      <td>NaN</td>\n",
       "      <td>Mauas</td>\n",
       "      <td>Reosc DC</td>\n",
       "      <td>= 'red: 316 l/mm   Decker 8 '\\n= '?ng.: 5 20  ...</td>\n",
       "    </tr>\n",
       "    <tr>\n",
       "      <th>20244</th>\n",
       "      <td>h158614a.fit</td>\n",
       "      <td>True</td>\n",
       "      <td>16</td>\n",
       "      <td>2</td>\n",
       "      <td>1024</td>\n",
       "      <td>1034</td>\n",
       "      <td>NaN</td>\n",
       "      <td>NaN</td>\n",
       "      <td>CASLEO</td>\n",
       "      <td>2005-08-17</td>\n",
       "      <td>...</td>\n",
       "      <td>2.15m</td>\n",
       "      <td>TK 1K</td>\n",
       "      <td>1.98</td>\n",
       "      <td>7.4</td>\n",
       "      <td>object</td>\n",
       "      <td>hd 158614</td>\n",
       "      <td>NaN</td>\n",
       "      <td>Mauas</td>\n",
       "      <td>Reosc DC</td>\n",
       "      <td>= 'red: 316 l/mm   Decker 8 '\\n= '?ng.: 5 20  ...</td>\n",
       "    </tr>\n",
       "  </tbody>\n",
       "</table>\n",
       "<p>20245 rows × 33 columns</p>\n",
       "</div>"
      ],
      "text/plain": [
       "              FNAME  SIMPLE  BITPIX  NAXIS  NAXIS1  NAXIS2  BSCALE    BZERO  \\\n",
       "0          ffl9.fit    True      16      2    1024    1034     1.0  32768.0   \n",
       "1         bias2.fit    True      16      2    1024    1034     1.0  32768.0   \n",
       "2       h42581b.fit    True      16      2    1024    1034     1.0  32768.0   \n",
       "3          ffl4.fit    True      16      2    1024    1034     1.0  32768.0   \n",
       "4         bias3.fit    True      16      2    1024    1034     1.0  32768.0   \n",
       "...             ...     ...     ...    ...     ...     ...     ...      ...   \n",
       "20240     bias9.fit    True      16      2    1024    1034     NaN      NaN   \n",
       "20241  h158614b.fit    True      16      2    1024    1034     NaN      NaN   \n",
       "20242  h147513a.fit    True      16      2    1024    1034     NaN      NaN   \n",
       "20243   h52265b.fit    True      16      2    1024    1034     NaN      NaN   \n",
       "20244  h158614a.fit    True      16      2    1024    1034     NaN      NaN   \n",
       "\n",
       "      OBSERVAT    DATE-OBS  ... TELESCOP DETECTOR  GAIN RDNOISE IMAGETYP  \\\n",
       "0       CASLEO  2017-12-05  ...    2.15m    TK 1K  1.98     7.4     flat   \n",
       "1       CASLEO  2017-12-05  ...    2.15m    TK 1K  1.98     7.4     zero   \n",
       "2       CASLEO  2017-12-06  ...    2.15m    TK 1K  1.98     7.4   object   \n",
       "3       CASLEO  2017-12-05  ...    2.15m    TK 1K  1.98     7.4     flat   \n",
       "4       CASLEO  2017-12-05  ...    2.15m    TK 1K  1.98     7.4     zero   \n",
       "...        ...         ...  ...      ...      ...   ...     ...      ...   \n",
       "20240   CASLEO  2005-08-16  ...    2.15m    TK 1K  1.98     7.4     zero   \n",
       "20241   CASLEO  2005-08-17  ...    2.15m    TK 1K  1.98     7.4   object   \n",
       "20242   CASLEO  2005-08-17  ...    2.15m    TK 1K  1.98     7.4   object   \n",
       "20243   CASLEO  2005-08-17  ...    2.15m    TK 1K  1.98     7.4   object   \n",
       "20244   CASLEO  2005-08-17  ...    2.15m    TK 1K  1.98     7.4   object   \n",
       "\n",
       "             OBJECT  PROG-ID                            OBSERVER  \\\n",
       "0      flat lampara      NaN  R. Iba?ez para A. Buccino (remoto)   \n",
       "1               NaN      NaN  R. Iba?ez para A. Buccino (remoto)   \n",
       "2           HD42581      NaN  R. Iba?ez para A. Buccino (remoto)   \n",
       "3      flat lampara      NaN  R. Iba?ez para A. Buccino (remoto)   \n",
       "4               NaN      NaN  R. Iba?ez para A. Buccino (remoto)   \n",
       "...             ...      ...                                 ...   \n",
       "20240           NaN      NaN                               Mauas   \n",
       "20241     hd 158614      NaN                               Mauas   \n",
       "20242     hd 147513      NaN                               Mauas   \n",
       "20243      hd 52265      NaN                               Mauas   \n",
       "20244     hd 158614      NaN                               Mauas   \n",
       "\n",
       "                                                INSTRUME  \\\n",
       "0      REOSC (DC) - Red # 180 - 316 l/mm - Ang.  5?  40'   \n",
       "1      REOSC (DC) - Red # 180 - 316 l/mm - Ang.  5?  40'   \n",
       "2      REOSC (DC) - Red # 180 - 316 l/mm - Ang.  5?  40'   \n",
       "3      REOSC (DC) - Red # 180 - 316 l/mm - Ang.  5?  40'   \n",
       "4      REOSC (DC) - Red # 180 - 316 l/mm - Ang.  5?  40'   \n",
       "...                                                  ...   \n",
       "20240                                           Reosc DC   \n",
       "20241                                           Reosc DC   \n",
       "20242                                           Reosc DC   \n",
       "20243                                           Reosc DC   \n",
       "20244                                           Reosc DC   \n",
       "\n",
       "                                                 COMMENT  \n",
       "0                         = 'Decker  8  - Ranura 250 u '  \n",
       "1                         = 'Decker  8  - Ranura 250 u '  \n",
       "2                         = 'Decker  8  - Ranura 250 u '  \n",
       "3                         = 'Decker  8  - Ranura 250 u '  \n",
       "4                         = 'Decker  8  - Ranura 250 u '  \n",
       "...                                                  ...  \n",
       "20240  = 'red: 316 l/mm   Decker 8 '\\n= '?ng.: 5 20  ...  \n",
       "20241  = 'red: 316 l/mm   Decker 8 '\\n= '?ng.: 5 20  ...  \n",
       "20242  = 'red: 316 l/mm   Decker 8 '\\n= '?ng.: 5 20  ...  \n",
       "20243  = 'red: 316 l/mm   Decker 8 '\\n= '?ng.: 5 20  ...  \n",
       "20244  = 'red: 316 l/mm   Decker 8 '\\n= '?ng.: 5 20  ...  \n",
       "\n",
       "[20245 rows x 33 columns]"
      ]
     },
     "execution_count": 279,
     "metadata": {},
     "output_type": "execute_result"
    }
   ],
   "source": [
    "df = pd.read_csv(\"/home/federico/andrea/Resources/tablas/tabla1.csv\")\n",
    "df"
   ]
  },
  {
   "cell_type": "markdown",
   "id": "495b48dc-9ca8-438b-b950-2b9bdc1dce8d",
   "metadata": {},
   "source": [
    "#### Cada fila de la tabla se corresponde con una observacion de un objeto en particular. En la columna *\"OBJECT\"* se encuentra la identificación de cada uno de los objetos observados. Hay desde estrellas hasta lamparas de calibración, o incluso objetos vacíos nombrados como *NaN*. También es importante notar que algunos nombres están escritos con algunas mayúsculas o espacios, mientras que otros no. De querer obtener por ejemplo una lista sin repeticiones de las estrellas observadas, hay que dar cuenta de estas cosas para filtrar las 20245 observaciones."
   ]
  },
  {
   "cell_type": "code",
   "execution_count": 280,
   "id": "408ec7d3-b52c-4727-b237-cf1b876beaf0",
   "metadata": {
    "tags": []
   },
   "outputs": [
    {
     "name": "stdout",
     "output_type": "stream",
     "text": [
      "Numero sobreestimado de estrellas distintas: 324\n"
     ]
    }
   ],
   "source": [
    "objects = list(set([x.lower().replace(\" \", \"\") for x in df['OBJECT'].tolist() if type(x) == str])) #Lista sin repeticiones de todos los objetos en la tabla salvo los NaN eliminando los espacios entre caractéres\n",
    "pre_stars = [x for x in objects if x[0] == 'h' or x[0] == 'g'] #Lista provisoria de estrellas sin repeticiones (aun hay algunas repeticiones)\n",
    "print('Numero sobreestimado de estrellas distintas:',len(pre_stars))"
   ]
  },
  {
   "cell_type": "code",
   "execution_count": 281,
   "id": "12223b8c-9072-4c1d-8de8-95808b6faa22",
   "metadata": {
    "tags": []
   },
   "outputs": [
    {
     "data": {
      "text/plain": [
       "['gj551', 'gj163', 'gj628', 'gj489']"
      ]
     },
     "execution_count": 281,
     "metadata": {},
     "output_type": "execute_result"
    }
   ],
   "source": [
    "[x for x in objects if x[0] == 'g' and x[:2] != 'gl'] #Hay tan solo 4 estrellas catalogadas con gj"
   ]
  },
  {
   "cell_type": "markdown",
   "id": "cdef5381-80c9-49a2-8425-92ba6df57089",
   "metadata": {},
   "source": [
    "#### En esta base de datos en particular sucedio que se le agregaba una *a* o una *b* al final del nombre tipeado en el header correspondiendose con la primera y segunda observacion del mismo objeto en un mismo turno. Además, en ocaciones se tipeaba *h* en lugar de *hd*."
   ]
  },
  {
   "cell_type": "code",
   "execution_count": 282,
   "id": "3c0bffef-189e-4d2e-aab6-8be28ed13397",
   "metadata": {
    "tags": []
   },
   "outputs": [
    {
     "name": "stdout",
     "output_type": "stream",
     "text": [
      "Numero de estrellas distintas: 297\n"
     ]
    }
   ],
   "source": [
    "# Cambio los h por hd y saco las a y b al final de los nombres\n",
    "for i in range(len(pre_stars)):\n",
    "    name = pre_stars[i]\n",
    "    if name[0] == 'h' and name[1].isnumeric():\n",
    "        pre_stars[i] = 'hd'+name[1:]\n",
    "    while pre_stars[i][-1].isnumeric() == False: \n",
    "        pre_stars[i] = pre_stars[i][:len(pre_stars[i])-1]\n",
    "        \n",
    "stars = list(set(pre_stars)) #Lista de estrellas sin repeticiones\n",
    "print('Numero de estrellas distintas:',len(stars))"
   ]
  },
  {
   "cell_type": "markdown",
   "id": "a8d1f910-7aa7-48a7-97b7-db2a6c9d7256",
   "metadata": {
    "tags": []
   },
   "source": [
    "#### Averiguamos que en las 20245 observaciones en la base de datos, hay 293 estrellas distintas. Veremos luego que algunos nombres de estas estrellas estan mal escritos, por lo que podrían ser menos."
   ]
  },
  {
   "cell_type": "markdown",
   "id": "802762de-5fbf-439e-bac8-87628611d0fe",
   "metadata": {
    "tags": []
   },
   "source": [
    "## SIMBAD"
   ]
  },
  {
   "cell_type": "markdown",
   "id": "cb525feb-56b9-4ae4-b57f-3965cf82aca5",
   "metadata": {
    "tags": []
   },
   "source": [
    "#### Con el módulo astroquery es fácil acceder a la base de datos astronómica SIMBAD. Por default, el módulo tiene ciertos campos de busqueda."
   ]
  },
  {
   "cell_type": "code",
   "execution_count": 122,
   "id": "235ba3b1-386c-4f70-8330-b4e50c5916d0",
   "metadata": {
    "tags": []
   },
   "outputs": [
    {
     "data": {
      "text/plain": [
       "['main_id',\n",
       " 'coordinates',\n",
       " 'id(opt)',\n",
       " 'ids',\n",
       " 'sptype',\n",
       " 'otype',\n",
       " 'ra_prec',\n",
       " 'dec_prec',\n",
       " 'rot',\n",
       " 'fe_h',\n",
       " 'typed_id',\n",
       " 'id(opt)',\n",
       " 'ids',\n",
       " 'sptype',\n",
       " 'otype',\n",
       " 'ra_prec',\n",
       " 'dec_prec',\n",
       " 'rot',\n",
       " 'fe_h',\n",
       " 'typed_id']"
      ]
     },
     "execution_count": 122,
     "metadata": {},
     "output_type": "execute_result"
    }
   ],
   "source": [
    "Simbad.get_votable_fields() #Numera los campos que por el momento estan siendo buscados"
   ]
  },
  {
   "cell_type": "markdown",
   "id": "5502fe60-a98d-4629-85a2-0f0186bb8bea",
   "metadata": {},
   "source": [
    "#### Con **Simbad.list_votable_fields()** podemos ver todos los campos que pueden ser buscados y con **Simbad.add_votable_fields(*field*)** podemos elegir que campo agregar. Si queremos obtener información sobre una lista de objetos, usamos el comando **Simbad.query_objects(*list*)**, que devuelve una tabla de astropy."
   ]
  },
  {
   "cell_type": "code",
   "execution_count": 123,
   "id": "9625b408-3aa7-491b-a77c-de1de5c8d000",
   "metadata": {
    "tags": []
   },
   "outputs": [
    {
     "name": "stderr",
     "output_type": "stream",
     "text": [
      "/home/federico/miniconda3/envs/andrea/lib/python3.11/site-packages/astroquery/simbad/core.py:135: UserWarning: Warning: The script line number 37 raised an error (recorded in the `errors` attribute of the result table): 'hr86334' this identifier has an incorrect format for catalog: \thr : Harvard Revised photometry  \n",
      "  warnings.warn(\"Warning: The script line number %i raised \"\n",
      "/home/federico/miniconda3/envs/andrea/lib/python3.11/site-packages/astroquery/simbad/core.py:135: UserWarning: Warning: The script line number 140 raised an error (recorded in the `errors` attribute of the result table): Identifier not found in the database : HD 404808 \n",
      "  warnings.warn(\"Warning: The script line number %i raised \"\n",
      "/home/federico/miniconda3/envs/andrea/lib/python3.11/site-packages/astroquery/simbad/core.py:135: UserWarning: Warning: The script line number 158 raised an error (recorded in the `errors` attribute of the result table): Identifier not found in the database : HR  9468 \n",
      "  warnings.warn(\"Warning: The script line number %i raised \"\n",
      "/home/federico/miniconda3/envs/andrea/lib/python3.11/site-packages/astroquery/simbad/core.py:135: UserWarning: Warning: The script line number 296 raised an error (recorded in the `errors` attribute of the result table): 'hr22049' this identifier has an incorrect format for catalog: \thr : Harvard Revised photometry\n",
      "  warnings.warn(\"Warning: The script line number %i raised \"\n"
     ]
    }
   ],
   "source": [
    "rt = Simbad.query_objects(stars) #Busco información sobre las estrellas observadas"
   ]
  },
  {
   "cell_type": "markdown",
   "id": "eac9f01a-b428-4cbf-adb8-903af39f60e4",
   "metadata": {
    "tags": []
   },
   "source": [
    "#### Vemos que surgen varias advertencias. Esto se debe a que varios nombres de estrellas estan mal escritos en los headers de la base de datos, por lo que al buscar estos nombres en SIMBAD emergen estas excepciones. Si quisieramos ver por ejemplo cuantas estrellas de tipo *'F','G','M'* o *'K'* se observaron, se puede hacer lo siguiente:"
   ]
  },
  {
   "cell_type": "code",
   "execution_count": 273,
   "id": "e6e543d6-2c1c-4ba1-a5ad-7a147dcb00b3",
   "metadata": {
    "tags": []
   },
   "outputs": [
    {
     "name": "stdout",
     "output_type": "stream",
     "text": [
      "Estrellas sin errores de tipeo en su nombre: 290\n",
      "\n",
      "Cantidad de estrellas por tipo:\n",
      "B: 13\n",
      "O: 2\n",
      "k: 1\n",
      "F: 34\n",
      "A: 10\n",
      "G: 103\n",
      "M: 33\n",
      "d: 3\n",
      "K: 91\n",
      "\n"
     ]
    },
    {
     "data": {
      "image/png": "[encoded data removed]",
      "text/plain": [
       "<Figure size 640x480 with 1 Axes>"
      ]
     },
     "metadata": {},
     "output_type": "display_data"
    }
   ],
   "source": [
    "stypes = [x[0] for x in rt['SP_TYPE'].tolist() if x != ''] #Se asume que si el \"SP_TYPE\" esta vacío entonces el nombre de la estrella estaba mal tipeado, por lo que se descartan estos casos\n",
    "keys = list(set(stypes)) #Todos lo tipos de estrella que aparecen\n",
    "counts = [stypes.count(key) for key in keys]\n",
    "my_keys = ['F','G','M','K'] #Los tipos de estrella que me interesan\n",
    "my_counts = [stypes.count(key) for key in my_keys] #Conteo de estrellas de cada tipo\n",
    "\n",
    "print(\"Estrellas sin errores de tipeo en su nombre:\",len(stypes))\n",
    "print()\n",
    "print(\"Cantidad de estrellas por tipo:\")\n",
    "for key,count in zip(keys,counts):\n",
    "    print(f\"{key}: {count}\")\n",
    "print()\n",
    "\n",
    "#Grafico\n",
    "plt.bar(my_keys,my_counts,color = 'tomato')\n",
    "plt.xlabel(\"Tipo de estrella\")\n",
    "plt.ylabel(\"Número de estrellas\")\n",
    "plt.grid(alpha = 0.5)\n",
    "plt.savefig(\"Types.png\", transparent = True)"
   ]
  },
  {
   "cell_type": "markdown",
   "id": "68da64a6-8df0-4cad-8620-a30d16c69964",
   "metadata": {
    "tags": []
   },
   "source": [
    "## Lapsos de observación"
   ]
  },
  {
   "cell_type": "code",
   "execution_count": 236,
   "id": "2ba54ba7-2cff-475d-bd7d-f1e3c95f8d13",
   "metadata": {
    "tags": []
   },
   "outputs": [],
   "source": [
    "table_objects = [x.lower().replace(\" \", \"\") if type(x) == str else x for x in df['OBJECT'].tolist()] #Lista de objetos tal como esta en la tabla\n",
    "table_dates = df['DATE-OBS'].tolist() #Lista de fechas tal como esta en la tabla"
   ]
  },
  {
   "cell_type": "code",
   "execution_count": 237,
   "id": "40608fc3-2e6c-4acb-b77a-bcba243fafe4",
   "metadata": {
    "tags": []
   },
   "outputs": [],
   "source": [
    "objects = []\n",
    "dates = []\n",
    "\n",
    "for obj,date in zip(table_objects,table_dates):\n",
    "    if type(obj) != str or type(date) != str: #Filtro los nan (hay uno en dates tambien)\n",
    "        continue\n",
    "    else:\n",
    "        if obj[0] == 'h' or obj[0] == 'g': #Me quedo solo con los que empiezan con h o g\n",
    "            objects.append(obj) \n",
    "            dates.append(date)"
   ]
  },
  {
   "cell_type": "code",
   "execution_count": 264,
   "id": "e957a799-f2ad-4c7f-b6cf-54098b9b37a8",
   "metadata": {
    "tags": []
   },
   "outputs": [
    {
     "name": "stdout",
     "output_type": "stream",
     "text": [
      "Numero de estrellas: 10133\n",
      "Numero de estrellas unicas: 297 Coincide con la lista del analisis anterior ✓\n"
     ]
    }
   ],
   "source": [
    "# Cambio los h por hd y saco las a y b al final de los nombres\n",
    "for i in range(len(objects)):\n",
    "    name = objects[i]\n",
    "    if name[0] == 'h' and name[1].isnumeric():\n",
    "        objects[i] = 'hd'+name[1:]\n",
    "    while objects[i][-1].isnumeric() == False: \n",
    "        objects[i] = objects[i][:len(objects[i])-1]\n",
    "        \n",
    "uniques = list(set(objects))\n",
    "\n",
    "print('Numero de estrellas:',len(objects))\n",
    "print(f'Numero de estrellas unicas: {len(uniques)} Coincide con la lista del analisis anterior ✓')"
   ]
  },
  {
   "cell_type": "code",
   "execution_count": 265,
   "id": "e9da189d-f313-4a9c-85f2-f3b870f4622c",
   "metadata": {
    "tags": []
   },
   "outputs": [],
   "source": [
    "#Transformo las fechas a formato datetime\n",
    "integers = [ (int(x.split('-')[0]),int(x.split('-')[1]),int(x.split('-')[2])) for x in dates]\n",
    "times = [get_time(x[0],x[1],x[2]) for x in integers]"
   ]
  },
  {
   "cell_type": "code",
   "execution_count": 266,
   "id": "5cc62748-00b1-4e72-929d-a0cde66f7c0a",
   "metadata": {
    "tags": []
   },
   "outputs": [],
   "source": [
    "timespans = []\n",
    "for unique in uniques:\n",
    "    unidates = [time for obj,time in zip(objects,times) if obj == unique] #tiempos en los que se observo un objeto\n",
    "    maxi = max(unidates) #tiempo maximo\n",
    "    mini = min(unidates) #tiempo minimo\n",
    "    dif = maxi-mini #diferencia de tiempo\n",
    "    timespans.append(dif.days/365.25) #paso la diferencia a anios"
   ]
  },
  {
   "cell_type": "code",
   "execution_count": 275,
   "id": "f0294dde-0242-4f25-a103-366b5baaf819",
   "metadata": {
    "tags": []
   },
   "outputs": [
    {
     "data": {
      "image/png": "[encoded data removed]",
      "text/plain": [
       "<Figure size 640x480 with 1 Axes>"
      ]
     },
     "metadata": {},
     "output_type": "display_data"
    }
   ],
   "source": [
    "n = 15\n",
    "plt.figure()    \n",
    "plt.hist(timespans,color = \"tomato\",bins = n)\n",
    "plt.xlabel('Lapso de observación (años)')\n",
    "plt.ylabel('Numero de estrellas')\n",
    "plt.grid(alpha = 0.5)\n",
    "plt.savefig(\"timespans.png\", transparent = True)"
   ]
  }
 ],
 "metadata": {
  "kernelspec": {
   "display_name": "Python 3 (ipykernel)",
   "language": "python",
   "name": "python3"
  },
  "language_info": {
   "codemirror_mode": {
    "name": "ipython",
    "version": 3
   },
   "file_extension": ".py",
   "mimetype": "text/x-python",
   "name": "python",
   "nbconvert_exporter": "python",
   "pygments_lexer": "ipython3",
   "version": "3.11.4"
  }
 },
 "nbformat": 4,
 "nbformat_minor": 5
}
